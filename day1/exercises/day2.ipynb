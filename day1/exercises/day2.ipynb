{
 "metadata": {
  "name": "",
  "signature": "sha256:46927ee53d7f155514ca4a77cc072b9da2499ab770c1aa234eb6abe8c0f44f7b"
 },
 "nbformat": 3,
 "nbformat_minor": 0,
 "worksheets": [
  {
   "cells": [
    {
     "cell_type": "code",
     "collapsed": false,
     "input": [
      "%pylab inline "
     ],
     "language": "python",
     "metadata": {},
     "outputs": [
      {
       "output_type": "stream",
       "stream": "stdout",
       "text": [
        "Populating the interactive namespace from numpy and matplotlib\n"
       ]
      }
     ],
     "prompt_number": 2
    },
    {
     "cell_type": "heading",
     "level": 1,
     "metadata": {},
     "source": [
      "Monte Carlo estimation of pi"
     ]
    },
    {
     "cell_type": "code",
     "collapsed": false,
     "input": [
      "PROGRAM MCint\n",
      "! Using the Monte Carlos Integration Method to find PI\n",
      "! This turns out to run too fast even though I used a huge array (and ran out of memory)\n",
      "! See MCintegration.f90 for my actual hw submission\n",
      "IMPLICIT NONE\n",
      "  INTEGER  i,j,n, IN,OUT\n",
      "  REAL R\n",
      "  REAL tmp_x, tmp_y\n",
      "  INTEGER H\n",
      "  REAL ans\n",
      "  !INT(1e9)\n",
      "  INTEGER, DIMENSION(100000000):: Hval\n",
      "  REAL, DIMENSION (100000000)::X,Y\n",
      "  real                              :: rndReal\n",
      "  real, dimension(100000000)                :: rndRealArr\n",
      "  integer                            :: seedSize\n",
      "  integer, dimension(:), allocatable :: seed\n",
      "  integer, dimension(8)              :: dtVals\n",
      "  rndRealArr = 0\n",
      "  call RANDOM_NUMBER(rndRealArr)\n",
      "  X= rndRealArr\n",
      "  !write (*,*) 'Random Array: ', X \n",
      "  call RANDOM_NUMBER(rndRealArr)\n",
      "  Y= rndRealArr\n",
      " n=0\n",
      "!  print *,Y(1)\n",
      "  do i =1,100000000\n",
      "!\tdo j = 1,10\n",
      "\t\t!write (*,*), i , \"$\"\n",
      "\t\ttmp_x = X(i)\n",
      "                tmp_y = Y(i)\n",
      "\t\t!write (*,*),\"x\",tmp_x\n",
      "\t\t!Hval(i)=H(tmp_x,tmp_y)\n",
      "\t\tif (R(tmp_x,tmp_y)<=1) then\n",
      "\t\t\t!H=1\n",
      "\t\t\tIN=IN+1\n",
      "\t\telse\n",
      "\t\t\t!H=0\n",
      "\t\t\tOUT= OUT+1\n",
      "\t\tend if\n",
      "\n",
      "\t\t!write (*,*),\"y\",tmp_y\n",
      "!\t\tprint * , H(tmp_x,tmp_y)\n",
      "\t\tn=n+1\n",
      "!\tend do  \n",
      "\t\t!print *, \"-----------\" \n",
      "  end do\n",
      "!print *,Hval \n",
      "print *,IN\n",
      "print *,OUT\n",
      "print * , 4.*(REAL(IN)/REAL(OUT+IN))\n",
      "  !print *,n\n",
      "END\n",
      "SUBROUTINE  H(x,y)\n",
      "\t!Determines whether the point is inside or outside the circle\n",
      "\t! MAKE SURE x,y arguments are proper floats or strange comparison bug may occur\n",
      "\tif (R(x,y)<=1) then \n",
      "\t\t!H=1\n",
      "\t\tIN=IN+1\n",
      "\telse\n",
      "\t\t!H=0\n",
      "\t\tOUT= OUT+1\n",
      "\tend if\n",
      "\tRETURN\n",
      "END \n",
      "REAL FUNCTION R(x,y)\n",
      " \t!Function evaluates r = x^2+y^2\n",
      "\t!write (*,*),\"x:\",x\n",
      "\t!write (*,*),\"y:\",y\n",
      "\tR  =x**2+y**2\n",
      "\tRETURN \n",
      "END\n",
      "\n"
     ],
     "language": "python",
     "metadata": {},
     "outputs": []
    },
    {
     "cell_type": "code",
     "collapsed": false,
     "input": [
      "def H(x,y): \n",
      "    # find out whether the point is inside or outside the circle \n",
      "    if (R(x,y)<=1):\n",
      "        inside= inside +1\n",
      "    else:\n",
      "        out = out+1\n",
      "def R(x,y): \n",
      "    return x**2+y**2"
     ],
     "language": "python",
     "metadata": {},
     "outputs": [],
     "prompt_number": 4
    },
    {
     "cell_type": "code",
     "collapsed": false,
     "input": [
      "N=100\n",
      "X = np.arange(N)\n",
      "Y = np.arange(N)"
     ],
     "language": "python",
     "metadata": {},
     "outputs": [],
     "prompt_number": 7
    },
    {
     "cell_type": "code",
     "collapsed": false,
     "input": [
      "np.meshgrid(X,Y)"
     ],
     "language": "python",
     "metadata": {},
     "outputs": [
      {
       "metadata": {},
       "output_type": "pyout",
       "prompt_number": 10,
       "text": [
        "[array([[ 0,  1,  2, ..., 97, 98, 99],\n",
        "        [ 0,  1,  2, ..., 97, 98, 99],\n",
        "        [ 0,  1,  2, ..., 97, 98, 99],\n",
        "        ..., \n",
        "        [ 0,  1,  2, ..., 97, 98, 99],\n",
        "        [ 0,  1,  2, ..., 97, 98, 99],\n",
        "        [ 0,  1,  2, ..., 97, 98, 99]]), array([[ 0,  0,  0, ...,  0,  0,  0],\n",
        "        [ 1,  1,  1, ...,  1,  1,  1],\n",
        "        [ 2,  2,  2, ...,  2,  2,  2],\n",
        "        ..., \n",
        "        [97, 97, 97, ..., 97, 97, 97],\n",
        "        [98, 98, 98, ..., 98, 98, 98],\n",
        "        [99, 99, 99, ..., 99, 99, 99]])]"
       ]
      }
     ],
     "prompt_number": 10
    },
    {
     "cell_type": "code",
     "collapsed": false,
     "input": [
      "grid = np.zeros((N,N))\n",
      "plt.imshow(grid)"
     ],
     "language": "python",
     "metadata": {},
     "outputs": [
      {
       "metadata": {},
       "output_type": "pyout",
       "prompt_number": 13,
       "text": [
        "<matplotlib.image.AxesImage at 0x10d020050>"
       ]
      },
      {
       "metadata": {},
       "output_type": "display_data",
       "png": "[encoded data removed]",
       "text": [
        "<matplotlib.figure.Figure at 0x10d00c710>"
       ]
      }
     ],
     "prompt_number": 13
    },
    {
     "cell_type": "code",
     "collapsed": false,
     "input": [
      "import random \n",
      "random.random()"
     ],
     "language": "python",
     "metadata": {},
     "outputs": [
      {
       "metadata": {},
       "output_type": "pyout",
       "prompt_number": 14,
       "text": [
        "0.8165152461917586"
       ]
      }
     ],
     "prompt_number": 14
    },
    {
     "cell_type": "code",
     "collapsed": false,
     "input": [
      "N=1000\n",
      "def R(x,y): \n",
      "    return x**2+y**2\n",
      "inside = 0\n",
      "out =0\n",
      "for i in np.arange(N):\n",
      "    for j in np.arange(N):\n",
      "        random.random()\n",
      "        # find out whether the point is inside or outside the circle \n",
      "        if (R(i,j)<=1):\n",
      "            inside= inside +1\n",
      "        else:\n",
      "            out = out+1"
     ],
     "language": "python",
     "metadata": {},
     "outputs": [],
     "prompt_number": 4
    },
    {
     "cell_type": "code",
     "collapsed": false,
     "input": [
      "inside"
     ],
     "language": "python",
     "metadata": {},
     "outputs": [
      {
       "metadata": {},
       "output_type": "pyout",
       "prompt_number": 5,
       "text": [
        "3"
       ]
      }
     ],
     "prompt_number": 5
    },
    {
     "cell_type": "code",
     "collapsed": false,
     "input": [
      "out"
     ],
     "language": "python",
     "metadata": {},
     "outputs": [
      {
       "metadata": {},
       "output_type": "pyout",
       "prompt_number": 6,
       "text": [
        "999997"
       ]
      }
     ],
     "prompt_number": 6
    },
    {
     "cell_type": "code",
     "collapsed": false,
     "input": [
      "4.*(float(inside)/float(out+inside))"
     ],
     "language": "python",
     "metadata": {},
     "outputs": [
      {
       "metadata": {},
       "output_type": "pyout",
       "prompt_number": 7,
       "text": [
        "1.2e-05"
       ]
      }
     ],
     "prompt_number": 7
    },
    {
     "cell_type": "code",
     "collapsed": false,
     "input": [],
     "language": "python",
     "metadata": {},
     "outputs": []
    }
   ],
   "metadata": {}
  }
 ]
}